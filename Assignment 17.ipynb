{
 "cells": [
  {
   "cell_type": "code",
   "execution_count": 8,
   "id": "5a9e4aed-b9a9-44d4-9fd0-275cf90490a2",
   "metadata": {
    "tags": []
   },
   "outputs": [],
   "source": [
    "import os\n",
    "import json\n",
    "import psycopg2\n",
    "from psycopg2.extras import DictCursor"
   ]
  },
  {
   "cell_type": "code",
   "execution_count": 9,
   "id": "2b481273-8207-4311-8ca6-526602c3ccc3",
   "metadata": {
    "tags": []
   },
   "outputs": [],
   "source": [
    "POSTGRESQL_HOST = '10.129.0.25'"
   ]
  },
  {
   "cell_type": "code",
   "execution_count": 10,
   "id": "5d61d302-0259-481e-ac9e-43d2f2133b44",
   "metadata": {
    "tags": []
   },
   "outputs": [
    {
     "name": "stdout",
     "output_type": "stream",
     "text": [
      "Requirement already satisfied: ipython-sql in /opt/conda/lib/python3.10/site-packages (0.5.0)\n",
      "Requirement already satisfied: sqlalchemy>=2.0 in /opt/conda/lib/python3.10/site-packages (from ipython-sql) (2.0.7)\n",
      "Requirement already satisfied: ipython in /opt/conda/lib/python3.10/site-packages (from ipython-sql) (8.11.0)\n",
      "Requirement already satisfied: prettytable in /opt/conda/lib/python3.10/site-packages (from ipython-sql) (3.7.0)\n",
      "Requirement already satisfied: sqlparse in /opt/conda/lib/python3.10/site-packages (from ipython-sql) (0.4.4)\n",
      "Requirement already satisfied: six in /opt/conda/lib/python3.10/site-packages (from ipython-sql) (1.16.0)\n",
      "Requirement already satisfied: ipython-genutils in /opt/conda/lib/python3.10/site-packages (from ipython-sql) (0.2.0)\n",
      "Requirement already satisfied: greenlet!=0.4.17 in /opt/conda/lib/python3.10/site-packages (from sqlalchemy>=2.0->ipython-sql) (2.0.2)\n",
      "Requirement already satisfied: typing-extensions>=4.2.0 in /opt/conda/lib/python3.10/site-packages (from sqlalchemy>=2.0->ipython-sql) (4.5.0)\n",
      "Requirement already satisfied: prompt-toolkit!=3.0.37,<3.1.0,>=3.0.30 in /opt/conda/lib/python3.10/site-packages (from ipython->ipython-sql) (3.0.38)\n",
      "Requirement already satisfied: matplotlib-inline in /opt/conda/lib/python3.10/site-packages (from ipython->ipython-sql) (0.1.6)\n",
      "Requirement already satisfied: pickleshare in /opt/conda/lib/python3.10/site-packages (from ipython->ipython-sql) (0.7.5)\n",
      "Requirement already satisfied: pexpect>4.3 in /opt/conda/lib/python3.10/site-packages (from ipython->ipython-sql) (4.8.0)\n",
      "Requirement already satisfied: traitlets>=5 in /opt/conda/lib/python3.10/site-packages (from ipython->ipython-sql) (5.9.0)\n",
      "Requirement already satisfied: jedi>=0.16 in /opt/conda/lib/python3.10/site-packages (from ipython->ipython-sql) (0.18.2)\n",
      "Requirement already satisfied: decorator in /opt/conda/lib/python3.10/site-packages (from ipython->ipython-sql) (5.1.1)\n",
      "Requirement already satisfied: backcall in /opt/conda/lib/python3.10/site-packages (from ipython->ipython-sql) (0.2.0)\n",
      "Requirement already satisfied: stack-data in /opt/conda/lib/python3.10/site-packages (from ipython->ipython-sql) (0.6.2)\n",
      "Requirement already satisfied: pygments>=2.4.0 in /opt/conda/lib/python3.10/site-packages (from ipython->ipython-sql) (2.14.0)\n",
      "Requirement already satisfied: wcwidth in /opt/conda/lib/python3.10/site-packages (from prettytable->ipython-sql) (0.2.6)\n",
      "Requirement already satisfied: parso<0.9.0,>=0.8.0 in /opt/conda/lib/python3.10/site-packages (from jedi>=0.16->ipython->ipython-sql) (0.8.3)\n",
      "Requirement already satisfied: ptyprocess>=0.5 in /opt/conda/lib/python3.10/site-packages (from pexpect>4.3->ipython->ipython-sql) (0.7.0)\n",
      "Requirement already satisfied: pure-eval in /opt/conda/lib/python3.10/site-packages (from stack-data->ipython->ipython-sql) (0.2.2)\n",
      "Requirement already satisfied: executing>=1.2.0 in /opt/conda/lib/python3.10/site-packages (from stack-data->ipython->ipython-sql) (1.2.0)\n",
      "Requirement already satisfied: asttokens>=2.1.0 in /opt/conda/lib/python3.10/site-packages (from stack-data->ipython->ipython-sql) (2.2.1)\n"
     ]
    }
   ],
   "source": [
    "!pip install ipython-sql"
   ]
  },
  {
   "cell_type": "code",
   "execution_count": 11,
   "id": "9a82ea91-6d92-4da7-95c8-4561c97031c3",
   "metadata": {
    "tags": []
   },
   "outputs": [
    {
     "name": "stdout",
     "output_type": "stream",
     "text": [
      "The sql extension is already loaded. To reload it, use:\n",
      "  %reload_ext sql\n"
     ]
    }
   ],
   "source": [
    "%load_ext sql"
   ]
  },
  {
   "cell_type": "code",
   "execution_count": 12,
   "id": "d06b22a5-f9ef-499b-871d-da3902e5f0e5",
   "metadata": {
    "tags": []
   },
   "outputs": [],
   "source": [
    "CONNECT_DATA = 'postgresql://{}:{}@{}/{}'.format(\n",
    "    os.environ['POSTGRESQL_USER'],\n",
    "    os.environ['POSTGRESQL_PASSWORD'],\n",
    "    POSTGRESQL_HOST,\n",
    "    'demo'\n",
    ")"
   ]
  },
  {
   "cell_type": "code",
   "execution_count": null,
   "id": "ee331775-647f-4aca-a66f-653e380d7e4b",
   "metadata": {},
   "outputs": [],
   "source": [
    "# original qauery"
   ]
  },
  {
   "cell_type": "code",
   "execution_count": 13,
   "id": "7a3f5129-2243-4767-ace9-6d05c17b0006",
   "metadata": {
    "tags": []
   },
   "outputs": [
    {
     "name": "stdout",
     "output_type": "stream",
     "text": [
      "7 rows affected.\n"
     ]
    },
    {
     "data": {
      "text/html": [
       "<table>\n",
       "    <thead>\n",
       "        <tr>\n",
       "            <th>departure_airport</th>\n",
       "            <th>arrival_airport</th>\n",
       "        </tr>\n",
       "    </thead>\n",
       "    <tbody>\n",
       "        <tr>\n",
       "            <td>DME</td>\n",
       "            <td>UUS</td>\n",
       "        </tr>\n",
       "        <tr>\n",
       "            <td>DME</td>\n",
       "            <td>HMA</td>\n",
       "        </tr>\n",
       "        <tr>\n",
       "            <td>HMA</td>\n",
       "            <td>DME</td>\n",
       "        </tr>\n",
       "        <tr>\n",
       "            <td>SVO</td>\n",
       "            <td>SVX</td>\n",
       "        </tr>\n",
       "        <tr>\n",
       "            <td>SVX</td>\n",
       "            <td>SVO</td>\n",
       "        </tr>\n",
       "        <tr>\n",
       "            <td>SVX</td>\n",
       "            <td>MQF</td>\n",
       "        </tr>\n",
       "        <tr>\n",
       "            <td>MQF</td>\n",
       "            <td>SVX</td>\n",
       "        </tr>\n",
       "    </tbody>\n",
       "</table>"
      ],
      "text/plain": [
       "[('DME', 'UUS'),\n",
       " ('DME', 'HMA'),\n",
       " ('HMA', 'DME'),\n",
       " ('SVO', 'SVX'),\n",
       " ('SVX', 'SVO'),\n",
       " ('SVX', 'MQF'),\n",
       " ('MQF', 'SVX')]"
      ]
     },
     "execution_count": 13,
     "metadata": {},
     "output_type": "execute_result"
    }
   ],
   "source": [
    "%%sql $CONNECT_DATA\n",
    "SELECT departure_airport, arrival_airport\n",
    "FROM Flights\n",
    "JOIN Ticket_flights USING (flight_id)\n",
    "JOIN Tickets USING (ticket_no)\n",
    "WHERE passenger_name = 'ELLA DMITRIEVA'"
   ]
  },
  {
   "cell_type": "code",
   "execution_count": null,
   "id": "5de5de91-db47-473d-a9dd-846888bd70f0",
   "metadata": {},
   "outputs": [],
   "source": [
    "# updated qauery"
   ]
  },
  {
   "cell_type": "code",
   "execution_count": 14,
   "id": "48e6c67d-8446-4f58-8ba4-9f1077d63d65",
   "metadata": {
    "tags": []
   },
   "outputs": [
    {
     "name": "stdout",
     "output_type": "stream",
     "text": [
      "7 rows affected.\n"
     ]
    },
    {
     "data": {
      "text/html": [
       "<table>\n",
       "    <thead>\n",
       "        <tr>\n",
       "            <th>departure_city</th>\n",
       "            <th>arrival_city</th>\n",
       "        </tr>\n",
       "    </thead>\n",
       "    <tbody>\n",
       "        <tr>\n",
       "            <td>Moscow</td>\n",
       "            <td>Yekaterinburg</td>\n",
       "        </tr>\n",
       "        <tr>\n",
       "            <td>Yekaterinburg</td>\n",
       "            <td>Moscow</td>\n",
       "        </tr>\n",
       "        <tr>\n",
       "            <td>Yekaterinburg</td>\n",
       "            <td>Magnetiogorsk</td>\n",
       "        </tr>\n",
       "        <tr>\n",
       "            <td>Magnetiogorsk</td>\n",
       "            <td>Yekaterinburg</td>\n",
       "        </tr>\n",
       "        <tr>\n",
       "            <td>Moscow</td>\n",
       "            <td>Yuzhno-Sakhalinsk</td>\n",
       "        </tr>\n",
       "        <tr>\n",
       "            <td>Moscow</td>\n",
       "            <td>Khanty-Mansiysk</td>\n",
       "        </tr>\n",
       "        <tr>\n",
       "            <td>Khanty-Mansiysk</td>\n",
       "            <td>Moscow</td>\n",
       "        </tr>\n",
       "    </tbody>\n",
       "</table>"
      ],
      "text/plain": [
       "[('Moscow', 'Yekaterinburg'),\n",
       " ('Yekaterinburg', 'Moscow'),\n",
       " ('Yekaterinburg', 'Magnetiogorsk'),\n",
       " ('Magnetiogorsk', 'Yekaterinburg'),\n",
       " ('Moscow', 'Yuzhno-Sakhalinsk'),\n",
       " ('Moscow', 'Khanty-Mansiysk'),\n",
       " ('Khanty-Mansiysk', 'Moscow')]"
      ]
     },
     "execution_count": 14,
     "metadata": {},
     "output_type": "execute_result"
    }
   ],
   "source": [
    "%%sql $CONNECT_DATA\n",
    "SELECT \n",
    "    dep.city AS departure_city, \n",
    "    arr.city AS arrival_city\n",
    "FROM \n",
    "    Flights f\n",
    "JOIN \n",
    "    Ticket_flights tf ON f.flight_id = tf.flight_id\n",
    "JOIN \n",
    "    Tickets t ON tf.ticket_no = t.ticket_no\n",
    "JOIN \n",
    "    Airports dep ON f.departure_airport = dep.airport_code\n",
    "JOIN \n",
    "    Airports arr ON f.arrival_airport = arr.airport_code\n",
    "WHERE \n",
    "    t.passenger_name = 'ELLA DMITRIEVA'"
   ]
  },
  {
   "cell_type": "code",
   "execution_count": null,
   "id": "7cd84ae4-b4a5-45f6-8172-05dcd14a35cd",
   "metadata": {},
   "outputs": [],
   "source": [
    "# Task 1 "
   ]
  },
  {
   "cell_type": "code",
   "execution_count": 28,
   "id": "d293159a-c8b5-4038-869c-e67309a0cb2c",
   "metadata": {
    "tags": []
   },
   "outputs": [
    {
     "name": "stdout",
     "output_type": "stream",
     "text": [
      "4 rows affected.\n"
     ]
    },
    {
     "data": {
      "text/html": [
       "<table>\n",
       "    <thead>\n",
       "        <tr>\n",
       "            <th>passenger</th>\n",
       "            <th>departure_airport</th>\n",
       "            <th>arrival_airport</th>\n",
       "        </tr>\n",
       "    </thead>\n",
       "    <tbody>\n",
       "        <tr>\n",
       "            <td>ALEKSEY GERASIMOV</td>\n",
       "            <td>DME</td>\n",
       "            <td>EGO</td>\n",
       "        </tr>\n",
       "        <tr>\n",
       "            <td>ALEKSEY GERASIMOV</td>\n",
       "            <td>AAQ</td>\n",
       "            <td>EGO</td>\n",
       "        </tr>\n",
       "        <tr>\n",
       "            <td>ALEKSEY GERASIMOV</td>\n",
       "            <td>EGO</td>\n",
       "            <td>DME</td>\n",
       "        </tr>\n",
       "        <tr>\n",
       "            <td>ALEKSEY GERASIMOV</td>\n",
       "            <td>EGO</td>\n",
       "            <td>AAQ</td>\n",
       "        </tr>\n",
       "    </tbody>\n",
       "</table>"
      ],
      "text/plain": [
       "[('ALEKSEY GERASIMOV', 'DME', 'EGO'),\n",
       " ('ALEKSEY GERASIMOV', 'AAQ', 'EGO'),\n",
       " ('ALEKSEY GERASIMOV', 'EGO', 'DME'),\n",
       " ('ALEKSEY GERASIMOV', 'EGO', 'AAQ')]"
      ]
     },
     "execution_count": 28,
     "metadata": {},
     "output_type": "execute_result"
    }
   ],
   "source": [
    "%%sql $CONNECT_DATA\n",
    "SELECT \n",
    "    t.passenger_name AS passenger,\n",
    "    f.departure_airport,\n",
    "    f.arrival_airport\n",
    "FROM \n",
    "    tickets t\n",
    "JOIN \n",
    "    ticket_flights tf ON t.ticket_no = tf.ticket_no\n",
    "JOIN \n",
    "    flights f ON tf.flight_id = f.flight_id\n",
    "WHERE \n",
    "    t.ticket_no = '0005432312164';"
   ]
  },
  {
   "cell_type": "code",
   "execution_count": 34,
   "id": "312ccf67-82dd-4e5e-b956-e0bd87d3a4ff",
   "metadata": {
    "tags": []
   },
   "outputs": [
    {
     "name": "stdout",
     "output_type": "stream",
     "text": [
      "4 rows affected.\n"
     ]
    },
    {
     "data": {
      "text/html": [
       "<table>\n",
       "    <thead>\n",
       "        <tr>\n",
       "            <th>passenger</th>\n",
       "            <th>departure_airport</th>\n",
       "            <th>arrival_airport</th>\n",
       "        </tr>\n",
       "    </thead>\n",
       "    <tbody>\n",
       "        <tr>\n",
       "            <td>ALEKSEY GERASIMOV</td>\n",
       "            <td>N/A</td>\n",
       "            <td>EGO</td>\n",
       "        </tr>\n",
       "        <tr>\n",
       "            <td>ALEKSEY GERASIMOV</td>\n",
       "            <td>N/A</td>\n",
       "            <td>EGO</td>\n",
       "        </tr>\n",
       "        <tr>\n",
       "            <td>ALEKSEY GERASIMOV</td>\n",
       "            <td>N/A</td>\n",
       "            <td>DME</td>\n",
       "        </tr>\n",
       "        <tr>\n",
       "            <td>ALEKSEY GERASIMOV</td>\n",
       "            <td>N/A</td>\n",
       "            <td>AAQ</td>\n",
       "        </tr>\n",
       "    </tbody>\n",
       "</table>"
      ],
      "text/plain": [
       "[('ALEKSEY GERASIMOV', 'N/A', 'EGO'),\n",
       " ('ALEKSEY GERASIMOV', 'N/A', 'EGO'),\n",
       " ('ALEKSEY GERASIMOV', 'N/A', 'DME'),\n",
       " ('ALEKSEY GERASIMOV', 'N/A', 'AAQ')]"
      ]
     },
     "execution_count": 34,
     "metadata": {},
     "output_type": "execute_result"
    }
   ],
   "source": [
    "%%sql $CONNECT_DATA\n",
    "SELECT \n",
    "    t.passenger_name AS passenger, \n",
    "    'N/A' AS departure_airport, \n",
    "    f.arrival_airport\n",
    "FROM \n",
    "    tickets t\n",
    "JOIN \n",
    "    ticket_flights tf ON t.ticket_no = tf.ticket_no\n",
    "JOIN \n",
    "    flights f ON tf.flight_id = f.flight_id\n",
    "WHERE \n",
    "    t.ticket_no = '0005432312164';"
   ]
  },
  {
   "cell_type": "code",
   "execution_count": 37,
   "id": "167e11ce-ea44-46c8-9462-1580aefb0c76",
   "metadata": {
    "tags": []
   },
   "outputs": [
    {
     "name": "stdout",
     "output_type": "stream",
     "text": [
      "4 rows affected.\n"
     ]
    },
    {
     "data": {
      "text/html": [
       "<table>\n",
       "    <thead>\n",
       "        <tr>\n",
       "            <th>passenger_name</th>\n",
       "            <th>departure_airport</th>\n",
       "            <th>arrival_airport</th>\n",
       "        </tr>\n",
       "    </thead>\n",
       "    <tbody>\n",
       "        <tr>\n",
       "            <td>ALEKSEY GERASIMOV</td>\n",
       "            <td>DME</td>\n",
       "            <td>EGO</td>\n",
       "        </tr>\n",
       "        <tr>\n",
       "            <td>ALEKSEY GERASIMOV</td>\n",
       "            <td>AAQ</td>\n",
       "            <td>EGO</td>\n",
       "        </tr>\n",
       "        <tr>\n",
       "            <td>ALEKSEY GERASIMOV</td>\n",
       "            <td>EGO</td>\n",
       "            <td>DME</td>\n",
       "        </tr>\n",
       "        <tr>\n",
       "            <td>ALEKSEY GERASIMOV</td>\n",
       "            <td>EGO</td>\n",
       "            <td>AAQ</td>\n",
       "        </tr>\n",
       "    </tbody>\n",
       "</table>"
      ],
      "text/plain": [
       "[('ALEKSEY GERASIMOV', 'DME', 'EGO'),\n",
       " ('ALEKSEY GERASIMOV', 'AAQ', 'EGO'),\n",
       " ('ALEKSEY GERASIMOV', 'EGO', 'DME'),\n",
       " ('ALEKSEY GERASIMOV', 'EGO', 'AAQ')]"
      ]
     },
     "execution_count": 37,
     "metadata": {},
     "output_type": "execute_result"
    }
   ],
   "source": [
    "%%sql $CONNECT_DATA\n",
    "SELECT \n",
    "    t.passenger_name, \n",
    "    f.departure_airport AS departure_airport,  \n",
    "    f.arrival_airport AS arrival_airport        \n",
    "FROM \n",
    "    tickets t\n",
    "JOIN \n",
    "    ticket_flights tf ON t.ticket_no = tf.ticket_no\n",
    "JOIN \n",
    "    flights f ON tf.flight_id = f.flight_id     \n",
    "WHERE \n",
    "    t.ticket_no = '0005432312164';"
   ]
  },
  {
   "cell_type": "code",
   "execution_count": 56,
   "id": "a53fc9b4-af0d-4628-b694-436da8c6cfab",
   "metadata": {
    "tags": []
   },
   "outputs": [
    {
     "name": "stdout",
     "output_type": "stream",
     "text": [
      "9 rows affected.\n"
     ]
    },
    {
     "data": {
      "text/html": [
       "<table>\n",
       "    <thead>\n",
       "        <tr>\n",
       "            <th>aircraft_code</th>\n",
       "            <th>model</th>\n",
       "            <th>range</th>\n",
       "        </tr>\n",
       "    </thead>\n",
       "    <tbody>\n",
       "        <tr>\n",
       "            <td>CN1</td>\n",
       "            <td>Cessna 208 Caravan</td>\n",
       "            <td>1200</td>\n",
       "        </tr>\n",
       "        <tr>\n",
       "            <td>CR2</td>\n",
       "            <td>Bombardier CRJ-200</td>\n",
       "            <td>2700</td>\n",
       "        </tr>\n",
       "        <tr>\n",
       "            <td>SU9</td>\n",
       "            <td>Sukhoi Superjet-100</td>\n",
       "            <td>3000</td>\n",
       "        </tr>\n",
       "        <tr>\n",
       "            <td>733</td>\n",
       "            <td>Boeing 737-300</td>\n",
       "            <td>4200</td>\n",
       "        </tr>\n",
       "        <tr>\n",
       "            <td>321</td>\n",
       "            <td>Airbus A321-200</td>\n",
       "            <td>5600</td>\n",
       "        </tr>\n",
       "        <tr>\n",
       "            <td>320</td>\n",
       "            <td>Airbus A320-200</td>\n",
       "            <td>5700</td>\n",
       "        </tr>\n",
       "        <tr>\n",
       "            <td>319</td>\n",
       "            <td>Airbus A319-100</td>\n",
       "            <td>6700</td>\n",
       "        </tr>\n",
       "        <tr>\n",
       "            <td>763</td>\n",
       "            <td>Boeing 767-300</td>\n",
       "            <td>7900</td>\n",
       "        </tr>\n",
       "        <tr>\n",
       "            <td>773</td>\n",
       "            <td>Boeing 777-300</td>\n",
       "            <td>11100</td>\n",
       "        </tr>\n",
       "    </tbody>\n",
       "</table>"
      ],
      "text/plain": [
       "[('CN1', 'Cessna 208 Caravan', 1200),\n",
       " ('CR2', 'Bombardier CRJ-200', 2700),\n",
       " ('SU9', 'Sukhoi Superjet-100', 3000),\n",
       " ('733', 'Boeing 737-300', 4200),\n",
       " ('321', 'Airbus A321-200', 5600),\n",
       " ('320', 'Airbus A320-200', 5700),\n",
       " ('319', 'Airbus A319-100', 6700),\n",
       " ('763', 'Boeing 767-300', 7900),\n",
       " ('773', 'Boeing 777-300', 11100)]"
      ]
     },
     "execution_count": 56,
     "metadata": {},
     "output_type": "execute_result"
    }
   ],
   "source": [
    "%%sql $CONNECT_DATA\n",
    "SELECT * FROM aircrafts \n",
    "ORDER BY range;"
   ]
  },
  {
   "cell_type": "code",
   "execution_count": null,
   "id": "531d8855-4941-4a54-bf53-7bec35dec064",
   "metadata": {},
   "outputs": [],
   "source": []
  },
  {
   "cell_type": "code",
   "execution_count": null,
   "id": "0de80881-b10f-4604-94e2-eff706406f71",
   "metadata": {},
   "outputs": [],
   "source": []
  }
 ],
 "metadata": {
  "kernelspec": {
   "display_name": "Python 3 (ipykernel)",
   "language": "python",
   "name": "python3"
  },
  "language_info": {
   "codemirror_mode": {
    "name": "ipython",
    "version": 3
   },
   "file_extension": ".py",
   "mimetype": "text/x-python",
   "name": "python",
   "nbconvert_exporter": "python",
   "pygments_lexer": "ipython3",
   "version": "3.10.9"
  }
 },
 "nbformat": 4,
 "nbformat_minor": 5
}
